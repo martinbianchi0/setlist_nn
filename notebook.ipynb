{
 "cells": [
  {
   "cell_type": "code",
   "execution_count": 3,
   "id": "c55d7844",
   "metadata": {},
   "outputs": [
    {
     "name": "stdout",
     "output_type": "stream",
     "text": [
      "        date                venue     city country                  tour  \\\n",
      "0 2025-06-03  TAURON Arena Kraków   Kraków      PL  HIT ME HARD AND SOFT   \n",
      "1 2025-06-01             O2 arena   Prague      CZ  HIT ME HARD AND SOFT   \n",
      "2 2025-05-30        Lanxess Arena  Cologne      DE  HIT ME HARD AND SOFT   \n",
      "3 2025-05-29        Lanxess Arena  Cologne      DE  HIT ME HARD AND SOFT   \n",
      "4 2025-05-09           Uber Arena   Berlin      DE  HIT ME HARD AND SOFT   \n",
      "\n",
      "                                               songs  \n",
      "0  [Intro, CHIHIRO, LUNCH, NDA, Therefore I Am, W...  \n",
      "1  [, CHIHIRO, LUNCH, NDA, Therefore I Am, WILDFL...  \n",
      "2  [, CHIHIRO, LUNCH, NDA, Therefore I Am, WILDFL...  \n",
      "3  [Intro, CHIHIRO, LUNCH, NDA, Therefore I Am, W...  \n",
      "4  [Intro, CHIHIRO, LUNCH, NDA, Therefore I Am, W...  \n"
     ]
    }
   ],
   "source": [
    "from src.preprocessing import get_setlists\n",
    "\n",
    "df = get_setlists(\"Billie Eilish\", pages=20)\n",
    "print(df.head())"
   ]
  },
  {
   "cell_type": "markdown",
   "id": "21021395",
   "metadata": {},
   "source": []
  }
 ],
 "metadata": {
  "kernelspec": {
   "display_name": "Python 3",
   "language": "python",
   "name": "python3"
  },
  "language_info": {
   "codemirror_mode": {
    "name": "ipython",
    "version": 3
   },
   "file_extension": ".py",
   "mimetype": "text/x-python",
   "name": "python",
   "nbconvert_exporter": "python",
   "pygments_lexer": "ipython3",
   "version": "3.11.2"
  }
 },
 "nbformat": 4,
 "nbformat_minor": 5
}
